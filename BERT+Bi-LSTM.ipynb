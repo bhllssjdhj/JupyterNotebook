{
  "metadata": {
    "kernelspec": {
      "language": "python",
      "display_name": "Python 3",
      "name": "python3"
    },
    "language_info": {
      "name": "python",
      "version": "3.7.10",
      "mimetype": "text/x-python",
      "codemirror_mode": {
        "name": "ipython",
        "version": 3
      },
      "pygments_lexer": "ipython3",
      "nbconvert_exporter": "python",
      "file_extension": ".py"
    },
    "colab": {
      "name": "bert-for-sentiment-analysis-5th-place-solution.ipynb",
      "provenance": []
    },
    "accelerator": "GPU"
  },
  "nbformat_minor": 0,
  "nbformat": 4,
  "cells": [
    {
      "cell_type": "raw",
      "source": [
        ""
      ],
      "metadata": {
        "_uuid": "8f2839f25d086af736a60e9eeb907d3b93b6e0e5",
        "_cell_guid": "b1076dfc-b9ad-4769-8c92-a6c4dae69d19",
        "execution": {
          "iopub.status.busy": "2022-05-28T06:39:24.743226Z",
          "iopub.execute_input": "2022-05-28T06:39:24.743575Z",
          "iopub.status.idle": "2022-05-28T06:39:24.916663Z",
          "shell.execute_reply.started": "2022-05-28T06:39:24.743546Z",
          "shell.execute_reply": "2022-05-28T06:39:24.916037Z"
        },
        "id": "vmxLUZcbauZD"
      }
    },
    {
      "cell_type": "code",
      "source": [
        "import random\n",
        "import gc\n",
        "\n",
        "from tqdm import tqdm\n",
        "import pandas as pd\n",
        "import numpy as np\n",
        "\n",
        "import torch\n",
        "import torch.nn as nn\n",
        "from torch.utils.data import DataLoader, Dataset, random_split\n",
        "!pip install transformers\n",
        "from transformers import AutoModel, AutoTokenizer, AutoConfig, AdamW\n",
        "\n",
        "gc.collect()"
      ],
      "metadata": {
        "id": "N0H3DlsubO3L"
      },
      "execution_count": null,
      "outputs": []
    },
    {
      "cell_type": "code",
      "source": [
        "!python --version\n",
        "print(\" \")\n",
        "print(torch.__version__)\n",
        "print(\" \")\n",
        "!nvcc --version"
      ],
      "metadata": {
        "execution": {
          "iopub.status.busy": "2022-05-28T06:42:47.774641Z",
          "iopub.execute_input": "2022-05-28T06:42:47.775234Z",
          "iopub.status.idle": "2022-05-28T06:42:50.221169Z",
          "shell.execute_reply.started": "2022-05-28T06:42:47.775153Z",
          "shell.execute_reply": "2022-05-28T06:42:50.220174Z"
        },
        "trusted": true,
        "id": "swcSqWTeauZE"
      },
      "execution_count": null,
      "outputs": []
    },
    {
      "cell_type": "code",
      "source": [
        "random.seed(42)\n",
        "torch.manual_seed(42)\n",
        "np.random.seed(42)"
      ],
      "metadata": {
        "trusted": true,
        "id": "-liabWncauZF"
      },
      "execution_count": null,
      "outputs": []
    },
    {
      "cell_type": "markdown",
      "source": [
        "# Prepare data"
      ],
      "metadata": {
        "id": "40poxJYMauZF"
      }
    },
    {
      "cell_type": "code",
      "source": [
        "!apt-get install unzip\n",
        "!unzip ../input/sentiment-analysis-on-movie-reviews/test.tsv.zip test.tsv\n",
        "!unzip ../input/sentiment-analysis-on-movie-reviews/train.tsv.zip train.tsv"
      ],
      "metadata": {
        "trusted": true,
        "id": "2LiW8bJeauZH"
      },
      "execution_count": null,
      "outputs": []
    },
    {
      "cell_type": "code",
      "source": [
        "from google.colab import drive\n",
        "drive.mount('/content/drive')"
      ],
      "metadata": {
        "id": "rJvR06a-fZYB"
      },
      "execution_count": null,
      "outputs": []
    },
    {
      "cell_type": "code",
      "source": [
        "device = torch.device('cuda' if torch.cuda.is_available() else 'cpu')\n",
        "sample_submission = pd.read_csv('/content/drive/MyDrive/sentiment-analysis-on-movie-reviews/sampleSubmission.csv')\n",
        "\n",
        "train_df = pd.read_csv('/content/drive/MyDrive/sentiment-analysis-on-movie-reviews/train.tsv', sep='\\t')\n",
        "print(train_df.shape)\n",
        "print(train_df.info())\n",
        "train_df.head()"
      ],
      "metadata": {
        "trusted": true,
        "id": "MiZiWG8rauZH"
      },
      "execution_count": null,
      "outputs": []
    },
    {
      "cell_type": "code",
      "source": [
        "test_df = pd.read_csv('/content/drive/MyDrive/sentiment-analysis-on-movie-reviews/test.tsv', sep='\\t')\n",
        "print(test_df.shape)\n",
        "print(test_df.info())\n",
        "test_df.head()"
      ],
      "metadata": {
        "trusted": true,
        "id": "1yDBylOeauZH"
      },
      "execution_count": null,
      "outputs": []
    },
    {
      "cell_type": "markdown",
      "source": [
        "# Text Processing"
      ],
      "metadata": {
        "id": "J5Sn3fEqauZI"
      }
    },
    {
      "cell_type": "code",
      "source": [
        "tokenizer = AutoTokenizer.from_pretrained('bert-base-uncased')"
      ],
      "metadata": {
        "trusted": true,
        "id": "FEwslPEZauZI"
      },
      "execution_count": null,
      "outputs": []
    },
    {
      "cell_type": "code",
      "source": [
        "class MovieReviewsDataset(Dataset):\n",
        "    def __init__(self, df, max_len, test_only=False):\n",
        "        self.max_len = max_len\n",
        "        self.test_only = test_only\n",
        "        self.text = df['Phrase'].tolist()\n",
        "        if not self.test_only:\n",
        "            self.sentiments = df['Sentiment'].values\n",
        "            \n",
        "        self.encode = tokenizer.batch_encode_plus(\n",
        "            self.text,\n",
        "            padding='max_length',\n",
        "            max_length=self.max_len,\n",
        "            truncation=True,\n",
        "            return_attention_mask=True\n",
        "        )\n",
        "        \n",
        "    def __getitem__(self, i):\n",
        "        input_ids = torch.tensor(self.encode['input_ids'][i])\n",
        "        attention_mask = torch.tensor(self.encode['attention_mask'][i])\n",
        "        \n",
        "        if self.test_only:\n",
        "            return (input_ids, attention_mask)\n",
        "        else:\n",
        "            sentiments = self.sentiments[i]\n",
        "            return (input_ids, attention_mask, sentiments)\n",
        "    \n",
        "    def __len__(self):\n",
        "        return len(self.text)\n"
      ],
      "metadata": {
        "trusted": true,
        "id": "OjzgWneFauZI"
      },
      "execution_count": null,
      "outputs": []
    },
    {
      "cell_type": "code",
      "source": [
        "max_len = 64\n",
        "train_dataset = MovieReviewsDataset(train_df, max_len)\n",
        "test_dataset = MovieReviewsDataset(test_df, max_len, test_only=True)\n",
        "\n",
        "lengths = [int(len(train_dataset) * 0.8), int(len(train_dataset) * 0.2)]\n",
        "train_dataset, valid_dataset = random_split(train_dataset, lengths=lengths, generator=torch.Generator().manual_seed(42))\n",
        "\n",
        "train_dataloader = DataLoader(train_dataset, batch_size=128, shuffle=True)\n",
        "val_dataloader = DataLoader(valid_dataset, batch_size=128)\n",
        "test_dataloader = DataLoader(test_dataset, batch_size=128)"
      ],
      "metadata": {
        "trusted": true,
        "id": "qscyhcJhauZJ"
      },
      "execution_count": null,
      "outputs": []
    },
    {
      "cell_type": "markdown",
      "source": [
        "# Modeling"
      ],
      "metadata": {
        "id": "eoEmdSKLauZK"
      }
    },
    {
      "cell_type": "code",
      "source": [
        "class Model(nn.Module):#构建模型\n",
        "    def __init__(self):\n",
        "        super(Model, self).__init__()\n",
        "        #从hugging face提供的api引入预训练模型BERT\n",
        "        bert_base_config = AutoConfig.from_pretrained('bert-base-uncased')\n",
        "        self.bert_base = AutoModel.from_pretrained('bert-base-uncased', config=bert_base_config)\n",
        "        self.classifier = nn.Linear(bert_base_config.hidden_size, 5)\n",
        "    #定义前向函数\n",
        "    def forward(self, input_ids, attention_mask):\n",
        "        bert_base_output = self.bert_base(input_ids=input_ids, attention_mask=attention_mask)\n",
        "        pooler_output = bert_base_output[1] # [batch_size, hidden] \n",
        "        out = self.classifier(pooler_output)\n",
        "        return out\n",
        "\n",
        "model = Model()\n",
        "model.to(device)\n",
        "optimizer = AdamW(model.parameters(), lr = 2e-5)\n",
        "criteron=nn.CrossEntropyLoss()#定义损失函数"
      ],
      "metadata": {
        "trusted": true,
        "id": "rFhypC5JauZL"
      },
      "execution_count": null,
      "outputs": []
    },
    {
      "cell_type": "code",
      "source": [
        "\n",
        "gc.collect()"
      ],
      "metadata": {
        "trusted": true,
        "id": "rvNSio-8auZL"
      },
      "execution_count": null,
      "outputs": []
    },
    {
      "cell_type": "code",
      "source": [
        "#模型训练\n",
        "total_loss = []\n",
        "total_val_acc = []\n",
        "for epoch in range(100):#100个epoch\n",
        "    model.train()\n",
        "    epoch_loss = []\n",
        "    for input_ids, attention_mask, target in tqdm(train_dataloader):#转换数据类型\n",
        "        input_ids = input_ids.to(device)\n",
        "        attention_mask = attention_mask.to(device)            \n",
        "        target = target.to(device)\n",
        "        \n",
        "        optimizer.zero_grad()#每个epoch中初始化梯度为0\n",
        "        \n",
        "        y_pred = model(input_ids, attention_mask)\n",
        "        \n",
        "        loss = criteron(y_pred, target)#计算loss\n",
        "        loss.backward()\n",
        "        optimizer.step()\n",
        "        \n",
        "        epoch_loss.append(loss.item())\n",
        "\n",
        "    input_ids = input_ids.to(torch.device('cpu'))\n",
        "    attention_mask = attention_mask.to(torch.device('cpu'))            \n",
        "    target = target.to(torch.device('cpu'))\n",
        "    gc.collect()\n",
        "\n",
        "    val_accs = []\n",
        "    model.eval()\n",
        "    for input_ids, attention_mask, target in tqdm(val_dataloader):\n",
        "        input_ids = input_ids.to(device)\n",
        "        attention_mask = attention_mask.to(device)        \n",
        "        y_pred = model(input_ids, attention_mask)\n",
        "        _, y_pred = torch.max(y_pred, -1)\n",
        "        acc = torch.mean((torch.tensor(y_pred.cpu() == target.cpu(), dtype=torch.float)))\n",
        "        val_accs.append(acc.cpu())\n",
        "\n",
        "    el = sum(epoch_loss)/len(epoch_loss)\n",
        "    total_loss.append(el)\n",
        "    acc = np.array(val_accs).mean()\n",
        "    total_val_acc.append(acc)\n",
        "    print(\"Epoch:\", epoch+1, \"-- loss:\", el, \"-- acc:\", acc)"
      ],
      "metadata": {
        "trusted": true,
        "id": "-PS_AeYIauZM"
      },
      "execution_count": null,
      "outputs": []
    }
  ]
}